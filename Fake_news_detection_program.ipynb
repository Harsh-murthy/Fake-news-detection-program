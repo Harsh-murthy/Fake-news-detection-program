{
  "nbformat": 4,
  "nbformat_minor": 0,
  "metadata": {
    "colab": {
      "name": "Fake news detection program.ipynb",
      "provenance": [],
      "collapsed_sections": [],
      "authorship_tag": "ABX9TyN/zyWkicjsD6Yay0wgHSJb",
      "include_colab_link": true
    },
    "kernelspec": {
      "display_name": "Python 3",
      "name": "python3"
    },
    "language_info": {
      "name": "python"
    }
  },
  "cells": [
    {
      "cell_type": "markdown",
      "metadata": {
        "id": "view-in-github",
        "colab_type": "text"
      },
      "source": [
        "<a href=\"https://colab.research.google.com/github/Harsh-murthy/Fake-news-detection-program/blob/main/Fake_news_detection_program.ipynb\" target=\"_parent\"><img src=\"https://colab.research.google.com/assets/colab-badge.svg\" alt=\"Open In Colab\"/></a>"
      ]
    },
    {
      "cell_type": "markdown",
      "metadata": {
        "id": "IDUZxMv_ENnB"
      },
      "source": [
        "importing the dependencies\n"
      ]
    },
    {
      "cell_type": "code",
      "metadata": {
        "id": "eJGnqLCHEYnP"
      },
      "source": [
        "import numpy as np\n",
        "import pandas as pd\n",
        "import re\n",
        "from nltk.corpus import stopwords\n",
        "from nltk.stem.porter import PorterStemmer\n",
        "from sklearn.feature_extraction.text import TfidfVectorizer\n",
        "from sklearn.model_selection import train_test_split\n",
        "from sklearn.linear_model import LogisticRegression\n",
        "from sklearn.metrics import accuracy_score"
      ],
      "execution_count": 2,
      "outputs": []
    },
    {
      "cell_type": "code",
      "metadata": {
        "colab": {
          "base_uri": "https://localhost:8080/"
        },
        "id": "Qu5WeiOKFfrf",
        "outputId": "0b1cedeb-f3ec-46e9-be0a-6750a7b27f3c"
      },
      "source": [
        "import nltk\n",
        "nltk.download('stopwords')"
      ],
      "execution_count": 3,
      "outputs": [
        {
          "output_type": "stream",
          "name": "stdout",
          "text": [
            "[nltk_data] Downloading package stopwords to /root/nltk_data...\n",
            "[nltk_data]   Unzipping corpora/stopwords.zip.\n"
          ]
        },
        {
          "output_type": "execute_result",
          "data": {
            "text/plain": [
              "True"
            ]
          },
          "metadata": {},
          "execution_count": 3
        }
      ]
    },
    {
      "cell_type": "markdown",
      "metadata": {
        "id": "CjES6kNTGZPC"
      },
      "source": [
        "Data pre processing"
      ]
    },
    {
      "cell_type": "code",
      "metadata": {
        "id": "_Vfaq6TdGcMn"
      },
      "source": [
        "#loading the dataset to pandas dataframe\n",
        "news_dataset = pd.read_csv('/content/news.csv')"
      ],
      "execution_count": 8,
      "outputs": []
    },
    {
      "cell_type": "code",
      "metadata": {
        "colab": {
          "base_uri": "https://localhost:8080/"
        },
        "id": "S2xxqIZfGILK",
        "outputId": "3a322ae5-8083-4c8d-de2f-6181b0d53750"
      },
      "source": [
        "news_dataset.shape"
      ],
      "execution_count": 9,
      "outputs": [
        {
          "output_type": "execute_result",
          "data": {
            "text/plain": [
              "(6335, 4)"
            ]
          },
          "metadata": {},
          "execution_count": 9
        }
      ]
    },
    {
      "cell_type": "code",
      "metadata": {
        "colab": {
          "base_uri": "https://localhost:8080/",
          "height": 206
        },
        "id": "_dESTyGKHGwL",
        "outputId": "79cd738d-f5b0-4b2e-c6f6-6dfc811e6015"
      },
      "source": [
        "#print the first 5 rows of the dataset\n",
        "news_dataset.head()"
      ],
      "execution_count": 10,
      "outputs": [
        {
          "output_type": "execute_result",
          "data": {
            "text/html": [
              "<div>\n",
              "<style scoped>\n",
              "    .dataframe tbody tr th:only-of-type {\n",
              "        vertical-align: middle;\n",
              "    }\n",
              "\n",
              "    .dataframe tbody tr th {\n",
              "        vertical-align: top;\n",
              "    }\n",
              "\n",
              "    .dataframe thead th {\n",
              "        text-align: right;\n",
              "    }\n",
              "</style>\n",
              "<table border=\"1\" class=\"dataframe\">\n",
              "  <thead>\n",
              "    <tr style=\"text-align: right;\">\n",
              "      <th></th>\n",
              "      <th>Unnamed: 0</th>\n",
              "      <th>title</th>\n",
              "      <th>text</th>\n",
              "      <th>label</th>\n",
              "    </tr>\n",
              "  </thead>\n",
              "  <tbody>\n",
              "    <tr>\n",
              "      <th>0</th>\n",
              "      <td>8476</td>\n",
              "      <td>You Can Smell Hillary’s Fear</td>\n",
              "      <td>Daniel Greenfield, a Shillman Journalism Fello...</td>\n",
              "      <td>FAKE</td>\n",
              "    </tr>\n",
              "    <tr>\n",
              "      <th>1</th>\n",
              "      <td>10294</td>\n",
              "      <td>Watch The Exact Moment Paul Ryan Committed Pol...</td>\n",
              "      <td>Google Pinterest Digg Linkedin Reddit Stumbleu...</td>\n",
              "      <td>FAKE</td>\n",
              "    </tr>\n",
              "    <tr>\n",
              "      <th>2</th>\n",
              "      <td>3608</td>\n",
              "      <td>Kerry to go to Paris in gesture of sympathy</td>\n",
              "      <td>U.S. Secretary of State John F. Kerry said Mon...</td>\n",
              "      <td>REAL</td>\n",
              "    </tr>\n",
              "    <tr>\n",
              "      <th>3</th>\n",
              "      <td>10142</td>\n",
              "      <td>Bernie supporters on Twitter erupt in anger ag...</td>\n",
              "      <td>— Kaydee King (@KaydeeKing) November 9, 2016 T...</td>\n",
              "      <td>FAKE</td>\n",
              "    </tr>\n",
              "    <tr>\n",
              "      <th>4</th>\n",
              "      <td>875</td>\n",
              "      <td>The Battle of New York: Why This Primary Matters</td>\n",
              "      <td>It's primary day in New York and front-runners...</td>\n",
              "      <td>REAL</td>\n",
              "    </tr>\n",
              "  </tbody>\n",
              "</table>\n",
              "</div>"
            ],
            "text/plain": [
              "   Unnamed: 0  ... label\n",
              "0        8476  ...  FAKE\n",
              "1       10294  ...  FAKE\n",
              "2        3608  ...  REAL\n",
              "3       10142  ...  FAKE\n",
              "4         875  ...  REAL\n",
              "\n",
              "[5 rows x 4 columns]"
            ]
          },
          "metadata": {},
          "execution_count": 10
        }
      ]
    },
    {
      "cell_type": "code",
      "metadata": {
        "id": "u2n7YCj5czf1"
      },
      "source": [
        "news_dataset = news_dataset.fillna('')"
      ],
      "execution_count": 11,
      "outputs": []
    },
    {
      "cell_type": "code",
      "metadata": {
        "colab": {
          "base_uri": "https://localhost:8080/"
        },
        "id": "luRVR8dUHUeo",
        "outputId": "e46cd447-a147-4325-abbb-bbf11c9f7890"
      },
      "source": [
        "#counting the number of missing values in the dataset\n",
        "news_dataset.isnull().sum()"
      ],
      "execution_count": 12,
      "outputs": [
        {
          "output_type": "execute_result",
          "data": {
            "text/plain": [
              "Unnamed: 0    0\n",
              "title         0\n",
              "text          0\n",
              "label         0\n",
              "dtype: int64"
            ]
          },
          "metadata": {},
          "execution_count": 12
        }
      ]
    },
    {
      "cell_type": "code",
      "metadata": {
        "id": "YmYa7NbjHs6x"
      },
      "source": [
        "#merging the title and text column\n",
        "news_dataset['content'] = news_dataset['title']+' '+news_dataset['text']"
      ],
      "execution_count": 13,
      "outputs": []
    },
    {
      "cell_type": "code",
      "metadata": {
        "colab": {
          "base_uri": "https://localhost:8080/"
        },
        "id": "mvuOEn-UI2PR",
        "outputId": "618e4acb-2a91-4bd9-bc20-8bc8c332bd70"
      },
      "source": [
        "print(news_dataset['content'])"
      ],
      "execution_count": 14,
      "outputs": [
        {
          "output_type": "stream",
          "name": "stdout",
          "text": [
            "0       You Can Smell Hillary’s Fear Daniel Greenfield...\n",
            "1       Watch The Exact Moment Paul Ryan Committed Pol...\n",
            "2       Kerry to go to Paris in gesture of sympathy U....\n",
            "3       Bernie supporters on Twitter erupt in anger ag...\n",
            "4       The Battle of New York: Why This Primary Matte...\n",
            "                              ...                        \n",
            "6330    State Department says it can't find emails fro...\n",
            "6331    The ‘P’ in PBS Should Stand for ‘Plutocratic’ ...\n",
            "6332    Anti-Trump Protesters Are Tools of the Oligarc...\n",
            "6333    In Ethiopia, Obama seeks progress on peace, se...\n",
            "6334    Jeb Bush Is Suddenly Attacking Trump. Here's W...\n",
            "Name: content, Length: 6335, dtype: object\n"
          ]
        }
      ]
    },
    {
      "cell_type": "code",
      "metadata": {
        "id": "lxCCpjZeI_cb"
      },
      "source": [
        "#separating the data &label\n",
        "A = news_dataset.drop(columns = 'label',axis=1)\n",
        "B = news_dataset['label']"
      ],
      "execution_count": 15,
      "outputs": []
    },
    {
      "cell_type": "code",
      "metadata": {
        "colab": {
          "base_uri": "https://localhost:8080/"
        },
        "id": "w8jnoAZDJqTK",
        "outputId": "e077ea05-e21c-48cb-d9cf-3c8513849563"
      },
      "source": [
        "print(A)\n",
        "print(B)"
      ],
      "execution_count": 16,
      "outputs": [
        {
          "output_type": "stream",
          "name": "stdout",
          "text": [
            "      Unnamed: 0  ...                                            content\n",
            "0           8476  ...  You Can Smell Hillary’s Fear Daniel Greenfield...\n",
            "1          10294  ...  Watch The Exact Moment Paul Ryan Committed Pol...\n",
            "2           3608  ...  Kerry to go to Paris in gesture of sympathy U....\n",
            "3          10142  ...  Bernie supporters on Twitter erupt in anger ag...\n",
            "4            875  ...  The Battle of New York: Why This Primary Matte...\n",
            "...          ...  ...                                                ...\n",
            "6330        4490  ...  State Department says it can't find emails fro...\n",
            "6331        8062  ...  The ‘P’ in PBS Should Stand for ‘Plutocratic’ ...\n",
            "6332        8622  ...  Anti-Trump Protesters Are Tools of the Oligarc...\n",
            "6333        4021  ...  In Ethiopia, Obama seeks progress on peace, se...\n",
            "6334        4330  ...  Jeb Bush Is Suddenly Attacking Trump. Here's W...\n",
            "\n",
            "[6335 rows x 4 columns]\n",
            "0       FAKE\n",
            "1       FAKE\n",
            "2       REAL\n",
            "3       FAKE\n",
            "4       REAL\n",
            "        ... \n",
            "6330    REAL\n",
            "6331    FAKE\n",
            "6332    FAKE\n",
            "6333    REAL\n",
            "6334    REAL\n",
            "Name: label, Length: 6335, dtype: object\n"
          ]
        }
      ]
    },
    {
      "cell_type": "code",
      "metadata": {
        "id": "UyUI7dxqJ3Cv"
      },
      "source": [
        "port_stem = PorterStemmer()"
      ],
      "execution_count": 17,
      "outputs": []
    },
    {
      "cell_type": "code",
      "metadata": {
        "id": "422smvcjNtvE"
      },
      "source": [
        "def stemming(content):\n",
        "    stemmed_content = re.sub('[^a-zA-Z]',' ',content)\n",
        "    stemmed_content = stemmed_content.lower()\n",
        "    stemmed_content = stemmed_content.split()\n",
        "    stemmed_content = [port_stem.stem(word) for word in stemmed_content if not word in stopwords.words('english')]\n",
        "    stemmed_content = ' '.join(stemmed_content)\n",
        "    return stemmed_content"
      ],
      "execution_count": 18,
      "outputs": []
    },
    {
      "cell_type": "code",
      "metadata": {
        "id": "9w__30_mQLmB"
      },
      "source": [
        "news_dataset['content'] = news_dataset['content'].apply(stemming)"
      ],
      "execution_count": 19,
      "outputs": []
    },
    {
      "cell_type": "code",
      "metadata": {
        "colab": {
          "base_uri": "https://localhost:8080/"
        },
        "id": "ewKApHCYRNG9",
        "outputId": "0fbab26b-2b83-45c5-d1db-ea5baa945646"
      },
      "source": [
        "print(news_dataset['content'])"
      ],
      "execution_count": 20,
      "outputs": [
        {
          "output_type": "stream",
          "name": "stdout",
          "text": [
            "0       smell hillari fear daniel greenfield shillman ...\n",
            "1       watch exact moment paul ryan commit polit suic...\n",
            "2       kerri go pari gestur sympathi u secretari stat...\n",
            "3       berni support twitter erupt anger dnc tri warn...\n",
            "4       battl new york primari matter primari day new ...\n",
            "                              ...                        \n",
            "6330    state depart say find email clinton specialist...\n",
            "6331    p pb stand plutocrat pentagon p pb stand pluto...\n",
            "6332    anti trump protest tool oligarchi inform anti ...\n",
            "6333    ethiopia obama seek progress peac secur east a...\n",
            "6334    jeb bush suddenli attack trump matter jeb bush...\n",
            "Name: content, Length: 6335, dtype: object\n"
          ]
        }
      ]
    },
    {
      "cell_type": "code",
      "metadata": {
        "id": "wKFefq2jYO7k"
      },
      "source": [
        "#separating the data and label\n",
        "A = news_dataset['content'].values\n",
        "B = news_dataset['label'].values"
      ],
      "execution_count": 21,
      "outputs": []
    },
    {
      "cell_type": "code",
      "metadata": {
        "colab": {
          "base_uri": "https://localhost:8080/"
        },
        "id": "UnJ275icYx3O",
        "outputId": "358d9514-19bb-4f2d-ecd7-f6743a2367a9"
      },
      "source": [
        "print(A)"
      ],
      "execution_count": 22,
      "outputs": [
        {
          "output_type": "stream",
          "name": "stdout",
          "text": [
            "['smell hillari fear daniel greenfield shillman journal fellow freedom center new york writer focus radic islam final stretch elect hillari rodham clinton gone war fbi word unpreced thrown around often elect ought retir still unpreced nomine major polit parti go war fbi exactli hillari peopl done coma patient wake watch hour cnn hospit bed would assum fbi director jame comey hillari oppon elect fbi attack everyon obama cnn hillari peopl circul letter attack comey current media hit piec lambast target trump surpris clinton alli start run attack ad fbi fbi leadership warn entir left wing establish form lynch mob continu go hillari fbi credibl attack media democrat preemptiv head result investig clinton foundat hillari clinton covert struggl fbi agent obama doj peopl gone explos public new york time compar comey j edgar hoover bizarr headlin jame comey role recal hoover fbi fairli practic admit front spout nonsens boston globe publish column call comey resign outdon time editori claim scandal realli attack women jame carvil appear msnbc remind everyon still aliv insan accus comey coordin hous republican kgb thought vast right wing conspiraci stretch countless media stori charg comey violat procedur know procedur violat email classifi inform store bathroom server senat harri reid sent comey letter accus violat hatch act hatch act nice idea much relev age obama tenth amend cabl news spectrum quickli fill media hack glanc wikipedia articl hatch act tabl accus fbi director one awkward conspiraci hillari ever jame comey realli hurt hillari pick one hell strang way long ago democrat breath sigh relief gave hillari clinton pass promin public statement realli elect trump keep email scandal go trash investig payrol hous republican kgb back play coy sudden develop vladimir putin paul ryan talk take look anthoni weiner comput either comey cun fbi director ever live awkwardli tri navig polit mess trap doj leadership whose polit futur tie hillari victori bureau whose apolit agent want allow job truli mysteri thing hillari associ decid go war respect feder agenc american like fbi hillari clinton enjoy unfavor rate interest question hillari old strategi lie deni fbi even crimin investig underway instead associ insist secur review fbi correct shrug old breezi denial approach given way savag assault fbi pretend noth wrong bad strategi better one pick fight fbi lunat clinton associ tri claim fbi realli kgb two possibl explan hillari clinton might arrog enough lash fbi believ victori near kind hubri led plan victori firework display could lead declar war fbi irrit final mile campaign explan peopl panick go war fbi behavior smart focus presidenti campaign act desper presidenti candid decid option tri destroy credibl fbi hubri fear fbi might reveal origin fbi investig hillari clinton confid could ride good reason believ hillari clinton gone place paranoid wreck within short space time posit clinton campaign promis unit countri replac desper flail oper focus energi fight fbi one reason bizarr behavior clinton campaign decid fbi investig latest batch email pose threat surviv gone fight fbi unpreced step born fear hard know whether fear justifi exist fear alreadi tell us whole lot clinton loyalist rig old investig knew outcom ahead time well knew debat question suddenli longer control afraid smell fear fbi wiretap investig clinton foundat find new email time clintonworld panick spinmeist clintonworld claim email scandal much smoke without fire appear improprieti without substanc react smoke respond fire misguid assault fbi tell us hillari clinton alli afraid revel bigger fundament illeg email setup email setup preemptiv cover clinton campaign panick badli belief right wrong whatev crime illeg setup meant cover risk expos clinton weather countless scandal year whatev protect time around bigger usual corrupt briberi sexual assault abus power follow around throughout year bigger damag alleg alreadi come want fbi investig anywher near campaign comey pure intimid also warn senior fbi peopl valu career warn stay away democrat close rank around nomine fbi ugli unpreced scene may also last stand hillari clinton awkwardli wound way numer scandal elect cycl never shown fear desper chang whatev afraid lie buri email huma abedin bring like noth els'\n",
            " 'watch exact moment paul ryan commit polit suicid trump ralli video googl pinterest digg linkedin reddit stumbleupon print delici pocket tumblr two fundament truth world paul ryan desper want presid paul ryan never presid today prove particularli stagger exampl polit cowardic paul ryan revers cours announc back trump train aboutfac week ago previous declar would support defend trump tape made public trump brag assault women suddenli ryan appear pro trump ralli boldli declar alreadi sent vote make presid unit state surreal moment figurehead republican parti dose gasolin got stage chilli afternoon wisconsin lit match speakerryan say vote realdonaldtrump republican time come home http co vytt yvoe pic twitter com wcvscg abc news polit abcpolit novemb democrat parti ask better moment film ryan chanc ever becom presid went zero instant wreckag trump leav behind wake cravenli back campaign recov ryan career manag limp way dnc tape lock load use everi ad elect day ring endors man clearli hate person level speak volum spineless ryan postur principl conserv one uncomfort trump unapologet bigotri sexism howev push came shove paul ryan like mani colleagu turn snivel appeas lofti tak convict principl hous card collaps slightest breez especi bizarr close ryan came make unscath month speaker hous refus comment trump strategi seem keep head pretend trump exist hope nobodi rememb happen day away elect screw ugli elect done good expos utter cowardic republican feign moral courag realiti televis star spit hijack parti insult wive got everi last one kneel turn event featur imag via twitter'\n",
            " 'kerri go pari gestur sympathi u secretari state john f kerri said monday stop pari later week amid critic top american offici attend sunday uniti march terror kerri said expect arriv pari thursday even head home week abroad said fli franc conclus seri meet schedul thursday sofia bulgaria plan meet next day foreign minist laurent fabiu presid francoi holland return washington visit kerri famili childhood tie countri speak fluent french could address critic unit state snub franc darkest hour mani year french press monday fill question neither presid obama kerri attend sunday march leader nation obama said stay away secur need tax countri kerri prior commit among roughli leader attend isra prime minist benjamin netanyahu stranger intens secur march besid holland citi street highest rank u offici attend march jane hartley ambassador franc victoria nuland assist secretari state european affair attorney gener eric h holder jr pari meet law enforc offici particip march kerri spent sunday busi summit host india prime minist narendra modi unit state eager india relax stringent law function barrier foreign invest hope modi govern act open huge indian market american busi news confer kerri brush asid critic unit state sent senior offici pari quibbl littl bit note mani staffer american embassi pari attend march includ ambassador said want present march could prior commit india go way home make crystal clear passion feel event taken place said think peopl franc doubt america understand happen person sens loss deep commit peopl franc moment trauma'\n",
            " ...\n",
            " 'anti trump protest tool oligarchi inform anti trump protest tool oligarchi reform alway provok rage part profit old order arthur schlesing jr crisi old order paul craig robert anti trump protest besmirch name progress pretend progress refus accept outcom presidenti elect look like act wors white trash denounc think know thug hire paid oligarchi delegitim trump presid way washington german marshal fund paid student kiev protest democrat elect ukrainian govern order prepar way coup organ chang org claim progress group might front along progress group oligarchi destroy reput progress circul petit direct elector elector collag annul elect cast vote hillari rememb upset progress trump said might accept elect result evid vote rig progress damn trump say might certain condit western presstitut use protest kiev delegitim democrat elect govern set coup protest pay good enough non ukrainian came nearbi countri particip protest order collect money time post amount paid daili protest report came eastern western europ peopl ukrainian paid protest ukrainian thing go trump protest cnn report mani american across countri donald trump victori outcom simpli refus accept ten thousand fill street least us citi overnight exact report oligarchi desir presstitut got hope one think simultan protest citi spontan event independ protest manag come slogan sign night follow elect point protest interest serv roman alway ask benefit one answer oligarchi oligarchi benefit trump threat oligarchi intend stop giveaway american job foreign job giveaway sanctifi neoliber junk economist free trade one main reason st centuri worsen us incom distribut money formerli paid middl class wage salari american manufactur employe colleg graduat rout pocket one percent us corpor move product good servic sold american offshor asian countri china india wage bill fall money formerli paid middl class incom goe instead execut bonus dividend capit gain sharehold ladder upward mobil made america land opportun dismantl sole purpos make hand peopl multi billionair trump threat oligarchi intend peac relat russia order replac profit soviet threat oligarchi neoconserv agent work overtim recreat russian threat demon russia accustom mani decad excess profit profit cold war militari secur complex angri presid reagan brought cold war end leach american taxpay could get cold war go soviet union collaps result right wing coup soviet presid mikhail gorbachev militari secur complex zionist neoconserv agent cook war terror keep money flow one percent hard presstitut media work creat fear muslim threat even insouci american knew muslim thousand icbm carri power thermo nuclear weapon capabl destroy entireti unit state minut neither muslim red armi capabl overrun europ coupl day inde muslim need armi refuge washington war enabl european overrun europ excus annual trillion dollar billion militari secur budget miss oligarchi creat new hitler russia hillari oligarchi principl agent heat new cold war hillari tool enrich oligarchi whose job presid protect increas trillion dollar budget militari secur complex hillari white hous loot american taxpay behalf wealth one percent could go forward unimped trump resolv russian threat oligarchi take incom hit hillari job presid also privat social secur order wall street benefactor rip american way american rip insur compani obamacar american pay attent think mistakenli fbi clear hillari violat nation secur protocol email practic fbi said hillari violat nation secur result careless ignor got indict fbi conclud intent violat nation secur protocol investig clinton foundat continu word order protect hillari fbi fell back ancient common law rule crime without intent see pcr lawrenc stratton tyranni good intent one would think protest legitim would celebr trump victori unlik hillari promis reduc tension power russia hope also china unlik hillari trump say concern absenc career peopl protest street citi word protest american peopl elect trump presid pointless protest happen one reason oligarchi intend delegitim trump presid presid trump delegitim easier oligarchi assassin unless oligarchi appoint control trump govern trump prime candid assassin protest trump suspici anoth reason unlik hillari obama georg w bush donald trump slaughter disloc million peopl seven countri send million refuge oligarchi war overrun europ trump earn fortun hook crook sell us govern influenc foreign agent bill hillari protest protest answer except hire protest maidan protest kiev hire protest us german financ ngo protest kiev equal pointless presidenti elect month away ukrainian realli believ presid conspir russia keep ukrain becom western puppet state wish becom puppet state regardless cost opportun vote govern hand reason protest orchestr coup us succeed put agent control new ukrainian govern victoria nuland us ambassador kiev confirm telephon convers avail internet maidan protest pointless except make coup possibl protest without doubt arrang washington assist secretari state victoria nuland neoconserv brought state depart hillari clinton purpos creat conflict russia trump protest order make vulner event prove threat oligarchi thought trump presid oligarchi still power make real reform difficult achiev symbol reform product contest presid trump oligarch karl marx learn histor experi lenin stalin pol pot learn karl marx chang cannot occur displac rule class left intact revolut proof throughout south america everi revolut indigen peopl left unmolest spanish rule class everi revolut overthrown collus rule class washington washington conspir tradit elit remov elect presid hondura number occas recent washington help elit evict femal presid argentina brazil presid venezuela ecuador bolivia crosshair unlik surviv washington determin get hand julian assang achiev washington intend overthrow ecuadoran govern defianc washington gave julian assang polit asylum hugo chavez power exil extermin spanish rule class venezuela rule class particip cia coup chavez cia could kill chavez peopl militari forc releas instead punish crimin would murder chavez let go accord marx lenin stalin classic mistak revolutionari reli good overthrown rule class certain road defeat revolut latin american prove unabl learn lesson revolut cannot conciliatori trump dealmak oligarchi permit sheen success exchang real chang trump perfect might fail back two import element program reduc tension major nuclear power halt washington polici permit global destroy american econom prospect tension nuclear power worsen worri problem combin economi hollow global immigr econom nightmar trump understand reason support note believ trump ruse conduct oligarchi howev hillari bought paid repres oligarchi elabor ruse unnecessari prefer oligarchi win platform instal presid opposit platform chang around anoth sellout increas anger peopl hillari oligarchi would voter mandat platform dr paul craig robert assist secretari treasuri econom polici associ editor wall street journal columnist busi week scripp howard news servic creator syndic mani univers appoint internet column attract worldwid follow robert latest book failur laissez fair capit econom dissolut west america lost neoconserv threat world order'\n",
            " 'ethiopia obama seek progress peac secur east africa addi ababa ethiopia presid obama conven meet leader sever east african nation african union monday effort address worsen situat south sudan even met ethiopia prime minist discuss strengthen human right democrat institut resolut sight ongo conflict south sudan obama brought togeth top offici ethiopia uganda kenya sudan u chart strategi event latest round peac talk fail african nation led ethiopia tri broker peac south sudan intergovernment author develop igad region bodi almost readi present possibl compromis war parti two side aug respond propos administr offici littl expect accept monday obama prais region leader show extraordinari leadership tri address continu situat south sudan group includ ethiopian prime minist hailemariam desalegn ugandan presid yoweri museveni kenyan presid uhuru kenyatta african union chairperson dlamini zuma sudan minist foreign affair ibrahim ghandour give u deleg opportun learn progress made appear continu roadblock partner make progress obama said hope actual bring kind peac peopl south sudan desper need question south sudan nation unit state help bring exist year effort georg w bush obama administr vex american policymak year decemb south sudan presid salva kiir accus riek machar serv vice presid attempt coup etat two longtim polit rival differ ethnic group kiir dinka machar nuer come togeth form govern countri first creat tribal differ help fuel conflict war larg focus control nation oil field south sudan primari sourc revenu princeton lyman u special envoy sudan south sudan note first took envoy unit state spent billion peacekeep assist two nation four year ago big invest ad point million peopl face food shortag roughli million displac home addit south sudanes fled across border neighbor countri includ ethiopia conflict also pose major econom problem kenya major invest south sudan fight broke lapsset corridor project aim transport oil south sudan kenyan port lamu accord e j hogendoorn deputi program director africa intern crisi group plan transport infrastructur develop could engin develop mani part east africa unfortun cours hold war said obama spent part afternoon address region conflict africa devot rest day strengthen tie ethiopia whose allianc unit state date back centuri current govern come sharp critic treatment polit oppon journalist obama first sit u presid visit ethiopia news confer monday afternoon obama hailemariam said frank discuss ethiopia human right practic need improv ethiopia africa number two jailer journalist accord committe protect journalist rule parti percent seat may parliamentari elect white hous nation secur advis susan rice ask last week whether consid ethiopia democraci repli ironi one hundr percent news confer obama twice refer ethiopian govern democrat elect bite tongu obama said rais concern issu ethiopia posit respect hailemariam part said commit democraci real skin deep ad later peopl could expect sweep reform given fact militari rule end coupl decad ago someth understood fledgl democraci two leader also discuss collabor counterterror area ethiopia activ leader white hous announc monday work congress provid approxim million year new train equip capac build aid african alli administr also said would provid least million assist fiscal year combat violent extrem east africa money intend foster collabor among secur forc law enforc govern offici commun leader member civil societi offici said obama prais ethiopia work curb extremist activ note govern label opposit group pose greater threat u intellig would indic intellig indic may oppos govern tip terror said unit state provid million assist ethiopia annual vast bulk million come u agenc intern develop rest larg secur relat last fiscal year nearli million went health program million went humanitarian aid obama said ethiopia proven global leader develop past year lift million peopl poverti mani peopl around world imag ethiopia remain stuck past rememb drought famin said two leader appear friendli rapport throughout news confer hailemariam describ countri score seri first along cradl mankind said ethiopia birthplac coffe elicit smile obama obama said impress ethiopian unusu pet chanc see famou lion live ground said consid get white hous conced make sure dog safe'\n",
            " 'jeb bush suddenli attack trump matter jeb bush suddenli attack trump matter jeb bush pull punch anymor come donald trump former florida governor delic danc around billionair businessman presidenti primari far glove came week bush call trump closet democrat tri stunt trump rise attempt recov polit mojo jeb desper tri find swagger right gop strategist ford connel said knock jeb low voltag will fight best way shake percept engag person media loop chang bush approach point lob mani direct attack trump delic condemn critic arizona sen john mccain war servic attack fox news megyn kelli even month first debat bush swat stori allegedli call trump buffoon clown say trump languag divis trump call bush true gentleman detent end week far top tier candid avoid directli attack trump treat kid glove anger part gop base trump appeal word voter need hope trump fade split screen new hampshir town hall week bush trump volley attack bush took point jab current front runner underscor trump past histori democrat liber posit use hold mr trump proven conserv record bush said accord washington post democrat longer last decad republican given money democrat given republican bush went attack trump hard line immigr propos argu vitriol would massiv price tag hundr billion dollar cost implement plan conserv plan bush said go pitch let support someon guess stand consist governor consist view next day bush continu hit social media trump never one miss moment retali pull punch either town hall wednesday trump blast bush unelect low energi person know happen jeb crowd street sleep trump said applaus sinc trump also ramp attack bush twitter move hot rhetor may trip bush though consid use phrase anchor babi immigr reform someth bush passion even written book often critic within gop liber issu instead comb bush appear use load phrase first time left struggl defend use may signal attack dog crouch take still one complet comfort bush earlier said want campaign joy candid embrac hit trump kentucki sen rand paul went forc debat though punch trump hedg bet support hillari clinton win presid appear land candid like ohio gov john kasich demur earlier gop debat night former texa gov rick perri businesswoman carli fiorina also jab trump bush though need close floodgat drop nation poll trump risen new hampshir bush led trump even newcom kasich seen surg cullen former new hampshir gop chairman said chang tone tactic smart move bush one could help granit state think good polit jeb said fergu cullen former new hampshir republican parti chairman percent republican entertain donald trump percent parti say vote circumst jeb bush peopl begin tri appeal percent adult room tri govern connel agre point even new approach one uncomfort bush necessari lot elect studiou one would work said trump flip script']\n"
          ]
        }
      ]
    },
    {
      "cell_type": "code",
      "metadata": {
        "colab": {
          "base_uri": "https://localhost:8080/"
        },
        "id": "YFGWorlpY0mF",
        "outputId": "9ff04b34-8d61-4391-9c45-b3d232724b0e"
      },
      "source": [
        "print(B)"
      ],
      "execution_count": 23,
      "outputs": [
        {
          "output_type": "stream",
          "name": "stdout",
          "text": [
            "['FAKE' 'FAKE' 'REAL' ... 'FAKE' 'REAL' 'REAL']\n"
          ]
        }
      ]
    },
    {
      "cell_type": "code",
      "metadata": {
        "colab": {
          "base_uri": "https://localhost:8080/"
        },
        "id": "0grjWoWwY5p9",
        "outputId": "7657cc22-bcb2-44dd-c1c1-51129d9b38d2"
      },
      "source": [
        "B.shape"
      ],
      "execution_count": 24,
      "outputs": [
        {
          "output_type": "execute_result",
          "data": {
            "text/plain": [
              "(6335,)"
            ]
          },
          "metadata": {},
          "execution_count": 24
        }
      ]
    },
    {
      "cell_type": "code",
      "metadata": {
        "id": "ctdBBUMiY9Zz"
      },
      "source": [
        "\n",
        "#converting the textual data to numerical data\n",
        "vectorizer = TfidfVectorizer()\n",
        "vectorizer.fit(A)\n",
        "\n",
        "A = vectorizer.transform(A)"
      ],
      "execution_count": 25,
      "outputs": []
    },
    {
      "cell_type": "code",
      "metadata": {
        "colab": {
          "base_uri": "https://localhost:8080/"
        },
        "id": "BhQpaSZ_ZryK",
        "outputId": "ab2a7734-4b86-432c-9f76-e103ef3187d1"
      },
      "source": [
        "print(A)"
      ],
      "execution_count": 26,
      "outputs": [
        {
          "output_type": "stream",
          "name": "stdout",
          "text": [
            "  (0, 43422)\t0.030377490785439623\n",
            "  (0, 43299)\t0.01823544823237207\n",
            "  (0, 42991)\t0.03695008224641025\n",
            "  (0, 42987)\t0.0240047103426603\n",
            "  (0, 42960)\t0.033095587951021126\n",
            "  (0, 42927)\t0.023617159002990093\n",
            "  (0, 42925)\t0.008737566380060865\n",
            "  (0, 42859)\t0.01579441180999399\n",
            "  (0, 42799)\t0.016678000766270875\n",
            "  (0, 42712)\t0.02838676929430383\n",
            "  (0, 42711)\t0.016808976313346893\n",
            "  (0, 42674)\t0.038267002580905846\n",
            "  (0, 42632)\t0.0425815201254337\n",
            "  (0, 42535)\t0.03488450955557637\n",
            "  (0, 42480)\t0.035809250475034055\n",
            "  (0, 42466)\t0.018399497997839874\n",
            "  (0, 42387)\t0.013920814295763086\n",
            "  (0, 42356)\t0.06194951909157974\n",
            "  (0, 42250)\t0.01149781838280218\n",
            "  (0, 42219)\t0.027015533479815255\n",
            "  (0, 42143)\t0.02866891016254173\n",
            "  (0, 42082)\t0.032730285384589844\n",
            "  (0, 42034)\t0.016336949950311784\n",
            "  (0, 41986)\t0.053305929475663996\n",
            "  (0, 41954)\t0.07035532559822699\n",
            "  :\t:\n",
            "  (6334, 3921)\t0.028594602233426542\n",
            "  (6334, 3920)\t0.02642484352841616\n",
            "  (6334, 3742)\t0.035328281056127245\n",
            "  (6334, 3735)\t0.020487351480229746\n",
            "  (6334, 3457)\t0.02229164029707443\n",
            "  (6334, 3165)\t0.018943625516819763\n",
            "  (6334, 2713)\t0.03435343915141552\n",
            "  (6334, 2582)\t0.02601325243098893\n",
            "  (6334, 2386)\t0.022800598270631234\n",
            "  (6334, 2383)\t0.16456134742124356\n",
            "  (6334, 2040)\t0.018164124506490627\n",
            "  (6334, 1970)\t0.03404155801130383\n",
            "  (6334, 1936)\t0.0238120151884342\n",
            "  (6334, 1788)\t0.05035793378515149\n",
            "  (6334, 1762)\t0.040227542684061895\n",
            "  (6334, 1749)\t0.03686342181007538\n",
            "  (6334, 1748)\t0.052906175305970235\n",
            "  (6334, 1662)\t0.03555772854027482\n",
            "  (6334, 1427)\t0.031098142869225603\n",
            "  (6334, 1361)\t0.03860904883549914\n",
            "  (6334, 1091)\t0.02416194947343021\n",
            "  (6334, 1002)\t0.03400345305952237\n",
            "  (6334, 661)\t0.02359484217624736\n",
            "  (6334, 484)\t0.03352464411053989\n",
            "  (6334, 256)\t0.016873864345682155\n"
          ]
        }
      ]
    },
    {
      "cell_type": "code",
      "metadata": {
        "colab": {
          "base_uri": "https://localhost:8080/"
        },
        "id": "rVB3OiahbD3J",
        "outputId": "d3b8f3a1-3616-418f-da67-57698b9a09f2"
      },
      "source": [
        "print(B)"
      ],
      "execution_count": 27,
      "outputs": [
        {
          "output_type": "stream",
          "name": "stdout",
          "text": [
            "['FAKE' 'FAKE' 'REAL' ... 'FAKE' 'REAL' 'REAL']\n"
          ]
        }
      ]
    },
    {
      "cell_type": "code",
      "metadata": {
        "id": "zaod6ZVdb3We"
      },
      "source": [
        "A_train, A_test, B_train, B_test = train_test_split(A, B, test_size = 0.2, stratify=B, random_state=2)"
      ],
      "execution_count": 28,
      "outputs": []
    },
    {
      "cell_type": "code",
      "metadata": {
        "id": "m3X_X_9wcQyY"
      },
      "source": [
        "#training the model:logistic regression model\n",
        "model = LogisticRegression()"
      ],
      "execution_count": 29,
      "outputs": []
    },
    {
      "cell_type": "code",
      "metadata": {
        "colab": {
          "base_uri": "https://localhost:8080/"
        },
        "id": "X91frILQcgKF",
        "outputId": "29f54e9a-db36-44f0-a3be-dd498fdbe602"
      },
      "source": [
        "model.fit(A_train,B_train)"
      ],
      "execution_count": 30,
      "outputs": [
        {
          "output_type": "execute_result",
          "data": {
            "text/plain": [
              "LogisticRegression()"
            ]
          },
          "metadata": {},
          "execution_count": 30
        }
      ]
    },
    {
      "cell_type": "code",
      "metadata": {
        "id": "ZF015NTbcpoB"
      },
      "source": [
        "#accuracy score\n",
        "A_train_prediction = model.predict(A_train)\n",
        "training_data_accuracy = accuracy_score(A_train_prediction, B_train)"
      ],
      "execution_count": 31,
      "outputs": []
    },
    {
      "cell_type": "code",
      "metadata": {
        "colab": {
          "base_uri": "https://localhost:8080/"
        },
        "id": "EkVFQKbPdL_i",
        "outputId": "937faa15-9916-46d7-f2f1-bb406c7fb4b3"
      },
      "source": [
        "\n",
        "print('Accuracy score of the training data:',training_data_accuracy)"
      ],
      "execution_count": 32,
      "outputs": [
        {
          "output_type": "stream",
          "name": "stdout",
          "text": [
            "Accuracy score of the training data: 0.9532359905288083\n"
          ]
        }
      ]
    },
    {
      "cell_type": "code",
      "metadata": {
        "id": "apkwwyf9dYt1"
      },
      "source": [
        "#accuracy score test data\n",
        "A_test_prediction = model.predict(A_test)\n",
        "test_data_accuracy = accuracy_score(A_test_prediction, B_test)"
      ],
      "execution_count": 33,
      "outputs": []
    },
    {
      "cell_type": "code",
      "metadata": {
        "colab": {
          "base_uri": "https://localhost:8080/"
        },
        "id": "4abaZpjAd0NO",
        "outputId": "bd712552-a070-4a14-a8d5-5c984af3cdef"
      },
      "source": [
        "print('Accuracy score of the test data:',test_data_accuracy)"
      ],
      "execution_count": 34,
      "outputs": [
        {
          "output_type": "stream",
          "name": "stdout",
          "text": [
            "Accuracy score of the test data: 0.9171270718232044\n"
          ]
        }
      ]
    },
    {
      "cell_type": "code",
      "metadata": {
        "id": "ozoei9jqNsjw"
      },
      "source": [
        ""
      ],
      "execution_count": 19,
      "outputs": []
    }
  ]
}